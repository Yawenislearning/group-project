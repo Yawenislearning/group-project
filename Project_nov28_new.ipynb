{
 "cells": [
  {
   "cell_type": "markdown",
   "id": "d4c5a136-e872-4846-9965-9ddc5251a0b3",
   "metadata": {},
   "source": [
    "# NYC Apartment Search\n",
    "\n",
    "_[Project prompt](https://docs.google.com/document/d/1BYVyFBDcTywdUlanH0ysfOrNWPgl7UkqXA7NeewTzxA/edit#heading=h.bpxu7uvknnbk)_\n",
    "\n",
    "_This scaffolding notebook may be used to help setup your final project. It's **totally optional** whether you make use of this or not._\n",
    "\n",
    "_If you do use this notebook, everything provided is optional as well - you may remove or add code as you wish._\n",
    "\n",
    "_**All code below should be consider \"pseudo-code\" - not functional by itself, and only an idea of a possible approach.**_"
   ]
  },
  {
   "cell_type": "markdown",
   "id": "bdf11fa0-4684-4f5e-8048-0f4cc5f4f243",
   "metadata": {},
   "source": [
    "## Setup"
   ]
  },
  {
   "cell_type": "code",
   "execution_count": null,
   "id": "f37a4828",
   "metadata": {},
   "outputs": [],
   "source": [
    "#pip install geoalchemy2 geopandas shapely"
   ]
  },
  {
   "cell_type": "code",
   "execution_count": 26,
   "id": "a749c66d",
   "metadata": {},
   "outputs": [
    {
     "name": "stdout",
     "output_type": "stream",
     "text": [
      "Collecting psycopg2\n",
      "  Downloading psycopg2-2.9.9.tar.gz (384 kB)\n",
      "\u001b[2K     \u001b[90m━━━━━━━━━━━━━━━━━━━━━━━━━━━━━━━━━━━━━━━\u001b[0m \u001b[32m384.9/384.9 kB\u001b[0m \u001b[31m2.6 MB/s\u001b[0m eta \u001b[36m0:00:00\u001b[0m00:01\u001b[0m00:01\u001b[0m\n",
      "\u001b[?25h  Preparing metadata (setup.py) ... \u001b[?25ldone\n",
      "\u001b[?25hBuilding wheels for collected packages: psycopg2\n",
      "  Building wheel for psycopg2 (setup.py) ... \u001b[?25ldone\n",
      "\u001b[?25h  Created wheel for psycopg2: filename=psycopg2-2.9.9-cp311-cp311-macosx_11_0_arm64.whl size=132988 sha256=2d08c54ba1ecbd921a7406ad866feba5257cc15c3c3f8435ff2ce67e50ea587b\n",
      "  Stored in directory: /Users/qianzhuoxin/Library/Caches/pip/wheels/ab/34/b9/78ebef1b3220b4840ee482461e738566c3c9165d2b5c914f51\n",
      "Successfully built psycopg2\n",
      "Installing collected packages: psycopg2\n",
      "Successfully installed psycopg2-2.9.9\n"
     ]
    }
   ],
   "source": [
    "!pip install psycopg2"
   ]
  },
  {
   "cell_type": "code",
   "execution_count": 27,
   "id": "0f675d4b-794e-407c-aac9-b85c4a3975d2",
   "metadata": {},
   "outputs": [],
   "source": [
    "# All import statements needed for the project, for example:\n",
    "\n",
    "import json\n",
    "import pathlib\n",
    "import urllib.parse\n",
    "\n",
    "import geoalchemy2 as gdb\n",
    "import geopandas as gpd\n",
    "import matplotlib.pyplot as plt\n",
    "import pandas as pd\n",
    "import requests\n",
    "import shapely\n",
    "import sqlalchemy as db\n",
    "import psycopg2\n",
    "\n",
    "from sqlalchemy.orm import declarative_base\n",
    "from sqlalchemy import create_engine, Column, Integer, String, Float, MetaData, Table,DateTime"
   ]
  },
  {
   "cell_type": "code",
   "execution_count": 85,
   "id": "70a62277-51cf-48a2-81d2-9b2127088a7e",
   "metadata": {},
   "outputs": [],
   "source": [
    "# Any constants you might need; some have been added for you\n",
    "\n",
    "# Where data files will be read from/written to - this should already exist\n",
    "DATA_DIR = pathlib.Path(\".\")\n",
    "ZIPCODE_DATA_FILE = DATA_DIR / \"zipcodes\" / \"nyc_zipcodes.shp\"\n",
    "ZILLOW_DATA_FILE = DATA_DIR / \"zillow_rent_data.csv\"\n",
    "\n",
    "NYC_DATA_APP_TOKEN = \"8ITaLVGKJEzelLCfrNyuIi2rJ\"\n",
    "BASE_NYC_DATA_URL = \"https://data.cityofnewyork.us/resource/\"\n",
    "NYC_DATA_311 = \"erm2-nwe9.geojson\"\n",
    "NYC_DATA_TREES = \"5rq2-4hqu.geojson\"\n",
    "\n",
    "DB_NAME = \"nyc_data1\"\n",
    "DB_USER = \"qianzhuoxin\"\n",
    "DB_URL = f\"postgresql+psycopg2://{DB_USER}@localhost/{DB_NAME}\"\n",
    "DB_SCHEMA_FILE = \"schema.sql\"\n",
    "# directory where DB queries for Part 3 will be saved\n",
    "QUERY_DIR = pathlib.Path(\"queries\")"
   ]
  },
  {
   "cell_type": "code",
   "execution_count": 86,
   "id": "cd67cca9-ec72-44e3-83b8-b65f1ed5bb2f",
   "metadata": {},
   "outputs": [],
   "source": [
    "# Make sure the QUERY_DIRECTORY exists\n",
    "if not QUERY_DIR.exists():\n",
    "    QUERY_DIR.mkdir()"
   ]
  },
  {
   "cell_type": "markdown",
   "id": "52476a07-9bf2-4b7a-8cb7-93648bb4d303",
   "metadata": {},
   "source": [
    "## Part 1: Data Preprocessing"
   ]
  },
  {
   "cell_type": "code",
   "execution_count": 30,
   "id": "63b18f12-c0ce-4b9c-adc1-805703edc575",
   "metadata": {},
   "outputs": [],
   "source": [
    "def download_nyc_geojson_data(url, force=False):\n",
    "    parsed_url = urllib.parse.urlparse(url)\n",
    "    url_path = parsed_url.path.strip(\"/\")\n",
    "    \n",
    "    filename = DATA_DIR / (url_path.split('/')[-1])\n",
    "    \n",
    "    if force or not filename.exists():\n",
    "        print(f\"Downloading {url} to {filename}...\")\n",
    "        response = requests.get(url)\n",
    "        response.raise_for_status()\n",
    "        with open(filename, \"w\") as f:\n",
    "            json.dump(response.json(), f)\n",
    "        print(f\"Done downloading {url}.\")\n",
    "\n",
    "    else:\n",
    "        print(f\"Reading from {filename}...\")\n",
    "\n",
    "    return filename"
   ]
  },
  {
   "cell_type": "code",
   "execution_count": 31,
   "id": "ee245240-2fbb-45b8-9a92-4e2368f62c60",
   "metadata": {},
   "outputs": [],
   "source": [
    "def load_and_clean_zipcodes(zipcode_datafile):\n",
    "    \n",
    "    gdf = gpd.read_file(zipcode_datafile)\n",
    "    gdf_cleaned = gdf.dropna()\n",
    "    \n",
    "    #normalized data\n",
    "    gdf_normalized = gdf_cleaned.to_crs(epsg=4326)\n",
    "    \n",
    "    return gdf_normalized"
   ]
  },
  {
   "cell_type": "code",
   "execution_count": 32,
   "id": "eed2a5a9-1027-4c41-bbb5-039c32ce7e9b",
   "metadata": {},
   "outputs": [],
   "source": [
    "def download_and_clean_311_data():\n",
    "    url = f\"{BASE_NYC_DATA_URL}{NYC_DATA_311}?$$app_token={NYC_DATA_APP_TOKEN}&$limit=1000\"\n",
    "    \n",
    "    filename = download_nyc_geojson_data(url)\n",
    "    \n",
    "    df = gpd.read_file(filename)\n",
    "    columns = ['unique_key', 'created_date', 'incident_zip', 'complaint_type']\n",
    "    df_selected = df[columns]\n",
    "    df_cleaned = df_selected.dropna()\n",
    "    \n",
    "    return df_cleaned"
   ]
  },
  {
   "cell_type": "code",
   "execution_count": 33,
   "id": "39c4b1bc-c841-4b87-8301-1dc2cafeccc7",
   "metadata": {},
   "outputs": [],
   "source": [
    "def download_and_clean_tree_data():\n",
    "    url = f\"{BASE_NYC_DATA_URL}{NYC_DATA_TREES}?$$app_token={NYC_DATA_APP_TOKEN}&$limit=1000\"\n",
    "    \n",
    "    filename = download_nyc_geojson_data(url)\n",
    "    \n",
    "    df = gpd.read_file(filename)\n",
    "    columns = ['tree_id','zipcode','x_sp', 'y_sp','longitude', 'latitude','spc_common','health','status']\n",
    "    df_selected = df[columns]\n",
    "    df_cleaned = df_selected.dropna()\n",
    "\n",
    "    return df_cleaned\n",
    "    \n",
    "    \n"
   ]
  },
  {
   "cell_type": "code",
   "execution_count": 34,
   "id": "747ff49f-a18b-4fc0-8da6-6834a10d11ce",
   "metadata": {},
   "outputs": [],
   "source": [
    "def load_and_clean_zillow_data():\n",
    "    df = pd.read_csv(ZILLOW_DATA_FILE)\n",
    "    df_cleaned = df.dropna()\n",
    "    return df_cleaned"
   ]
  },
  {
   "cell_type": "code",
   "execution_count": 35,
   "id": "345ebc2c-14f1-490c-9857-11f1e332e3bc",
   "metadata": {},
   "outputs": [],
   "source": [
    "def load_all_data():\n",
    "    geodf_zipcode_data = load_and_clean_zipcodes(ZIPCODE_DATA_FILE)\n",
    "    geodf_311_data = download_and_clean_311_data()\n",
    "    geodf_tree_data = download_and_clean_tree_data()\n",
    "    df_zillow_data = load_and_clean_zillow_data()\n",
    "    return (\n",
    "        geodf_zipcode_data,\n",
    "        geodf_311_data,\n",
    "        geodf_tree_data,\n",
    "        df_zillow_data\n",
    "    )"
   ]
  },
  {
   "cell_type": "code",
   "execution_count": 36,
   "id": "ac773f80",
   "metadata": {},
   "outputs": [],
   "source": [
    "geodf_zipcode_data['ZIPCODE']=geodf_zipcode_data['ZIPCODE'].astype(\"string\")"
   ]
  },
  {
   "cell_type": "code",
   "execution_count": 37,
   "id": "f2768bc8-4130-4298-be28-13d4b250a666",
   "metadata": {},
   "outputs": [
    {
     "name": "stdout",
     "output_type": "stream",
     "text": [
      "Reading from erm2-nwe9.geojson...\n",
      "Reading from 5rq2-4hqu.geojson...\n"
     ]
    }
   ],
   "source": [
    "geodf_zipcode_data, geodf_311_data, geodf_tree_data, df_zillow_data = load_all_data()"
   ]
  },
  {
   "cell_type": "code",
   "execution_count": 38,
   "id": "23ad8bbc-bf91-457e-97db-a945fabeee29",
   "metadata": {},
   "outputs": [
    {
     "name": "stdout",
     "output_type": "stream",
     "text": [
      "<class 'geopandas.geodataframe.GeoDataFrame'>\n",
      "RangeIndex: 263 entries, 0 to 262\n",
      "Data columns (total 13 columns):\n",
      " #   Column      Non-Null Count  Dtype   \n",
      "---  ------      --------------  -----   \n",
      " 0   ZIPCODE     263 non-null    object  \n",
      " 1   BLDGZIP     263 non-null    object  \n",
      " 2   PO_NAME     263 non-null    object  \n",
      " 3   POPULATION  263 non-null    float64 \n",
      " 4   AREA        263 non-null    float64 \n",
      " 5   STATE       263 non-null    object  \n",
      " 6   COUNTY      263 non-null    object  \n",
      " 7   ST_FIPS     263 non-null    object  \n",
      " 8   CTY_FIPS    263 non-null    object  \n",
      " 9   URL         263 non-null    object  \n",
      " 10  SHAPE_AREA  263 non-null    float64 \n",
      " 11  SHAPE_LEN   263 non-null    float64 \n",
      " 12  geometry    263 non-null    geometry\n",
      "dtypes: float64(4), geometry(1), object(8)\n",
      "memory usage: 26.8+ KB\n"
     ]
    }
   ],
   "source": [
    "# Show basic info about each dataframe\n",
    "geodf_zipcode_data.info()"
   ]
  },
  {
   "cell_type": "code",
   "execution_count": 39,
   "id": "ec68f4be-f365-46c1-91a1-ab75deb75ff4",
   "metadata": {},
   "outputs": [
    {
     "data": {
      "text/html": [
       "<div>\n",
       "<style scoped>\n",
       "    .dataframe tbody tr th:only-of-type {\n",
       "        vertical-align: middle;\n",
       "    }\n",
       "\n",
       "    .dataframe tbody tr th {\n",
       "        vertical-align: top;\n",
       "    }\n",
       "\n",
       "    .dataframe thead th {\n",
       "        text-align: right;\n",
       "    }\n",
       "</style>\n",
       "<table border=\"1\" class=\"dataframe\">\n",
       "  <thead>\n",
       "    <tr style=\"text-align: right;\">\n",
       "      <th></th>\n",
       "      <th>ZIPCODE</th>\n",
       "      <th>BLDGZIP</th>\n",
       "      <th>PO_NAME</th>\n",
       "      <th>POPULATION</th>\n",
       "      <th>AREA</th>\n",
       "      <th>STATE</th>\n",
       "      <th>COUNTY</th>\n",
       "      <th>ST_FIPS</th>\n",
       "      <th>CTY_FIPS</th>\n",
       "      <th>URL</th>\n",
       "      <th>SHAPE_AREA</th>\n",
       "      <th>SHAPE_LEN</th>\n",
       "      <th>geometry</th>\n",
       "    </tr>\n",
       "  </thead>\n",
       "  <tbody>\n",
       "    <tr>\n",
       "      <th>0</th>\n",
       "      <td>11436</td>\n",
       "      <td>0</td>\n",
       "      <td>Jamaica</td>\n",
       "      <td>18681.0</td>\n",
       "      <td>2.269930e+07</td>\n",
       "      <td>NY</td>\n",
       "      <td>Queens</td>\n",
       "      <td>36</td>\n",
       "      <td>081</td>\n",
       "      <td>http://www.usps.com/</td>\n",
       "      <td>0.0</td>\n",
       "      <td>0.0</td>\n",
       "      <td>POLYGON ((-73.80585 40.68291, -73.80569 40.682...</td>\n",
       "    </tr>\n",
       "    <tr>\n",
       "      <th>1</th>\n",
       "      <td>11213</td>\n",
       "      <td>0</td>\n",
       "      <td>Brooklyn</td>\n",
       "      <td>62426.0</td>\n",
       "      <td>2.963100e+07</td>\n",
       "      <td>NY</td>\n",
       "      <td>Kings</td>\n",
       "      <td>36</td>\n",
       "      <td>047</td>\n",
       "      <td>http://www.usps.com/</td>\n",
       "      <td>0.0</td>\n",
       "      <td>0.0</td>\n",
       "      <td>POLYGON ((-73.93740 40.67973, -73.93487 40.679...</td>\n",
       "    </tr>\n",
       "    <tr>\n",
       "      <th>2</th>\n",
       "      <td>11212</td>\n",
       "      <td>0</td>\n",
       "      <td>Brooklyn</td>\n",
       "      <td>83866.0</td>\n",
       "      <td>4.197210e+07</td>\n",
       "      <td>NY</td>\n",
       "      <td>Kings</td>\n",
       "      <td>36</td>\n",
       "      <td>047</td>\n",
       "      <td>http://www.usps.com/</td>\n",
       "      <td>0.0</td>\n",
       "      <td>0.0</td>\n",
       "      <td>POLYGON ((-73.90294 40.67084, -73.90223 40.668...</td>\n",
       "    </tr>\n",
       "    <tr>\n",
       "      <th>3</th>\n",
       "      <td>11225</td>\n",
       "      <td>0</td>\n",
       "      <td>Brooklyn</td>\n",
       "      <td>56527.0</td>\n",
       "      <td>2.369863e+07</td>\n",
       "      <td>NY</td>\n",
       "      <td>Kings</td>\n",
       "      <td>36</td>\n",
       "      <td>047</td>\n",
       "      <td>http://www.usps.com/</td>\n",
       "      <td>0.0</td>\n",
       "      <td>0.0</td>\n",
       "      <td>POLYGON ((-73.95797 40.67066, -73.95576 40.670...</td>\n",
       "    </tr>\n",
       "    <tr>\n",
       "      <th>4</th>\n",
       "      <td>11218</td>\n",
       "      <td>0</td>\n",
       "      <td>Brooklyn</td>\n",
       "      <td>72280.0</td>\n",
       "      <td>3.686880e+07</td>\n",
       "      <td>NY</td>\n",
       "      <td>Kings</td>\n",
       "      <td>36</td>\n",
       "      <td>047</td>\n",
       "      <td>http://www.usps.com/</td>\n",
       "      <td>0.0</td>\n",
       "      <td>0.0</td>\n",
       "      <td>POLYGON ((-73.97208 40.65060, -73.97192 40.650...</td>\n",
       "    </tr>\n",
       "  </tbody>\n",
       "</table>\n",
       "</div>"
      ],
      "text/plain": [
       "  ZIPCODE BLDGZIP   PO_NAME  POPULATION          AREA STATE  COUNTY ST_FIPS  \\\n",
       "0   11436       0   Jamaica     18681.0  2.269930e+07    NY  Queens      36   \n",
       "1   11213       0  Brooklyn     62426.0  2.963100e+07    NY   Kings      36   \n",
       "2   11212       0  Brooklyn     83866.0  4.197210e+07    NY   Kings      36   \n",
       "3   11225       0  Brooklyn     56527.0  2.369863e+07    NY   Kings      36   \n",
       "4   11218       0  Brooklyn     72280.0  3.686880e+07    NY   Kings      36   \n",
       "\n",
       "  CTY_FIPS                   URL  SHAPE_AREA  SHAPE_LEN  \\\n",
       "0      081  http://www.usps.com/         0.0        0.0   \n",
       "1      047  http://www.usps.com/         0.0        0.0   \n",
       "2      047  http://www.usps.com/         0.0        0.0   \n",
       "3      047  http://www.usps.com/         0.0        0.0   \n",
       "4      047  http://www.usps.com/         0.0        0.0   \n",
       "\n",
       "                                            geometry  \n",
       "0  POLYGON ((-73.80585 40.68291, -73.80569 40.682...  \n",
       "1  POLYGON ((-73.93740 40.67973, -73.93487 40.679...  \n",
       "2  POLYGON ((-73.90294 40.67084, -73.90223 40.668...  \n",
       "3  POLYGON ((-73.95797 40.67066, -73.95576 40.670...  \n",
       "4  POLYGON ((-73.97208 40.65060, -73.97192 40.650...  "
      ]
     },
     "execution_count": 39,
     "metadata": {},
     "output_type": "execute_result"
    }
   ],
   "source": [
    "# Show first 5 entries about each dataframe\n",
    "geodf_zipcode_data.head()"
   ]
  },
  {
   "cell_type": "code",
   "execution_count": 40,
   "id": "6a803b68-2f07-44b8-8b24-d4f16c9e03fe",
   "metadata": {},
   "outputs": [
    {
     "name": "stdout",
     "output_type": "stream",
     "text": [
      "<class 'pandas.core.frame.DataFrame'>\n",
      "Int64Index: 997 entries, 0 to 999\n",
      "Data columns (total 4 columns):\n",
      " #   Column          Non-Null Count  Dtype         \n",
      "---  ------          --------------  -----         \n",
      " 0   unique_key      997 non-null    object        \n",
      " 1   created_date    997 non-null    datetime64[ns]\n",
      " 2   incident_zip    997 non-null    object        \n",
      " 3   complaint_type  997 non-null    object        \n",
      "dtypes: datetime64[ns](1), object(3)\n",
      "memory usage: 38.9+ KB\n"
     ]
    }
   ],
   "source": [
    "geodf_311_data.info()"
   ]
  },
  {
   "cell_type": "code",
   "execution_count": 41,
   "id": "14705df9-ea77-4d57-ac8e-1845f80a216d",
   "metadata": {},
   "outputs": [
    {
     "data": {
      "text/html": [
       "<div>\n",
       "<style scoped>\n",
       "    .dataframe tbody tr th:only-of-type {\n",
       "        vertical-align: middle;\n",
       "    }\n",
       "\n",
       "    .dataframe tbody tr th {\n",
       "        vertical-align: top;\n",
       "    }\n",
       "\n",
       "    .dataframe thead th {\n",
       "        text-align: right;\n",
       "    }\n",
       "</style>\n",
       "<table border=\"1\" class=\"dataframe\">\n",
       "  <thead>\n",
       "    <tr style=\"text-align: right;\">\n",
       "      <th></th>\n",
       "      <th>unique_key</th>\n",
       "      <th>created_date</th>\n",
       "      <th>incident_zip</th>\n",
       "      <th>complaint_type</th>\n",
       "    </tr>\n",
       "  </thead>\n",
       "  <tbody>\n",
       "    <tr>\n",
       "      <th>0</th>\n",
       "      <td>59551848</td>\n",
       "      <td>2023-11-27 12:00:00</td>\n",
       "      <td>11370</td>\n",
       "      <td>Derelict Vehicles</td>\n",
       "    </tr>\n",
       "    <tr>\n",
       "      <th>1</th>\n",
       "      <td>59551851</td>\n",
       "      <td>2023-11-27 12:00:00</td>\n",
       "      <td>10468</td>\n",
       "      <td>Derelict Vehicles</td>\n",
       "    </tr>\n",
       "    <tr>\n",
       "      <th>2</th>\n",
       "      <td>59551328</td>\n",
       "      <td>2023-11-27 00:56:00</td>\n",
       "      <td>11217</td>\n",
       "      <td>Traffic Signal Condition</td>\n",
       "    </tr>\n",
       "    <tr>\n",
       "      <th>3</th>\n",
       "      <td>59554861</td>\n",
       "      <td>2023-11-27 00:41:00</td>\n",
       "      <td>11429</td>\n",
       "      <td>Adopt-A-Basket</td>\n",
       "    </tr>\n",
       "    <tr>\n",
       "      <th>4</th>\n",
       "      <td>59553569</td>\n",
       "      <td>2023-11-27 00:34:00</td>\n",
       "      <td>10474</td>\n",
       "      <td>Traffic Signal Condition</td>\n",
       "    </tr>\n",
       "  </tbody>\n",
       "</table>\n",
       "</div>"
      ],
      "text/plain": [
       "  unique_key        created_date incident_zip            complaint_type\n",
       "0   59551848 2023-11-27 12:00:00        11370         Derelict Vehicles\n",
       "1   59551851 2023-11-27 12:00:00        10468         Derelict Vehicles\n",
       "2   59551328 2023-11-27 00:56:00        11217  Traffic Signal Condition\n",
       "3   59554861 2023-11-27 00:41:00        11429            Adopt-A-Basket\n",
       "4   59553569 2023-11-27 00:34:00        10474  Traffic Signal Condition"
      ]
     },
     "execution_count": 41,
     "metadata": {},
     "output_type": "execute_result"
    }
   ],
   "source": [
    "geodf_311_data.head()"
   ]
  },
  {
   "cell_type": "code",
   "execution_count": 42,
   "id": "e6006cd2-3a00-4660-8d2a-a660b9bfd91e",
   "metadata": {},
   "outputs": [
    {
     "name": "stdout",
     "output_type": "stream",
     "text": [
      "<class 'pandas.core.frame.DataFrame'>\n",
      "Int64Index: 973 entries, 0 to 999\n",
      "Data columns (total 9 columns):\n",
      " #   Column      Non-Null Count  Dtype \n",
      "---  ------      --------------  ----- \n",
      " 0   tree_id     973 non-null    object\n",
      " 1   zipcode     973 non-null    object\n",
      " 2   x_sp        973 non-null    object\n",
      " 3   y_sp        973 non-null    object\n",
      " 4   longitude   973 non-null    object\n",
      " 5   latitude    973 non-null    object\n",
      " 6   spc_common  973 non-null    object\n",
      " 7   health      973 non-null    object\n",
      " 8   status      973 non-null    object\n",
      "dtypes: object(9)\n",
      "memory usage: 76.0+ KB\n"
     ]
    }
   ],
   "source": [
    "geodf_tree_data.info()"
   ]
  },
  {
   "cell_type": "code",
   "execution_count": 43,
   "id": "07f880ef-c5fc-4159-8174-21ccd44f492d",
   "metadata": {},
   "outputs": [
    {
     "data": {
      "text/html": [
       "<div>\n",
       "<style scoped>\n",
       "    .dataframe tbody tr th:only-of-type {\n",
       "        vertical-align: middle;\n",
       "    }\n",
       "\n",
       "    .dataframe tbody tr th {\n",
       "        vertical-align: top;\n",
       "    }\n",
       "\n",
       "    .dataframe thead th {\n",
       "        text-align: right;\n",
       "    }\n",
       "</style>\n",
       "<table border=\"1\" class=\"dataframe\">\n",
       "  <thead>\n",
       "    <tr style=\"text-align: right;\">\n",
       "      <th></th>\n",
       "      <th>tree_id</th>\n",
       "      <th>zipcode</th>\n",
       "      <th>x_sp</th>\n",
       "      <th>y_sp</th>\n",
       "      <th>longitude</th>\n",
       "      <th>latitude</th>\n",
       "      <th>spc_common</th>\n",
       "      <th>health</th>\n",
       "      <th>status</th>\n",
       "    </tr>\n",
       "  </thead>\n",
       "  <tbody>\n",
       "    <tr>\n",
       "      <th>0</th>\n",
       "      <td>180683</td>\n",
       "      <td>11375</td>\n",
       "      <td>1027431.14821</td>\n",
       "      <td>202756.768749</td>\n",
       "      <td>-73.84421522</td>\n",
       "      <td>40.72309177</td>\n",
       "      <td>red maple</td>\n",
       "      <td>Fair</td>\n",
       "      <td>Alive</td>\n",
       "    </tr>\n",
       "    <tr>\n",
       "      <th>1</th>\n",
       "      <td>200540</td>\n",
       "      <td>11357</td>\n",
       "      <td>1034455.70109</td>\n",
       "      <td>228644.837379</td>\n",
       "      <td>-73.81867946</td>\n",
       "      <td>40.79411067</td>\n",
       "      <td>pin oak</td>\n",
       "      <td>Fair</td>\n",
       "      <td>Alive</td>\n",
       "    </tr>\n",
       "    <tr>\n",
       "      <th>2</th>\n",
       "      <td>204026</td>\n",
       "      <td>11211</td>\n",
       "      <td>1001822.83131</td>\n",
       "      <td>200716.891267</td>\n",
       "      <td>-73.9366077</td>\n",
       "      <td>40.71758074</td>\n",
       "      <td>honeylocust</td>\n",
       "      <td>Good</td>\n",
       "      <td>Alive</td>\n",
       "    </tr>\n",
       "    <tr>\n",
       "      <th>3</th>\n",
       "      <td>204337</td>\n",
       "      <td>11211</td>\n",
       "      <td>1002420.35833</td>\n",
       "      <td>199244.253136</td>\n",
       "      <td>-73.93445616</td>\n",
       "      <td>40.71353749</td>\n",
       "      <td>honeylocust</td>\n",
       "      <td>Good</td>\n",
       "      <td>Alive</td>\n",
       "    </tr>\n",
       "    <tr>\n",
       "      <th>4</th>\n",
       "      <td>189565</td>\n",
       "      <td>11215</td>\n",
       "      <td>990913.775046</td>\n",
       "      <td>182202.425999</td>\n",
       "      <td>-73.97597938</td>\n",
       "      <td>40.66677776</td>\n",
       "      <td>American linden</td>\n",
       "      <td>Good</td>\n",
       "      <td>Alive</td>\n",
       "    </tr>\n",
       "  </tbody>\n",
       "</table>\n",
       "</div>"
      ],
      "text/plain": [
       "  tree_id zipcode           x_sp           y_sp     longitude     latitude  \\\n",
       "0  180683   11375  1027431.14821  202756.768749  -73.84421522  40.72309177   \n",
       "1  200540   11357  1034455.70109  228644.837379  -73.81867946  40.79411067   \n",
       "2  204026   11211  1001822.83131  200716.891267   -73.9366077  40.71758074   \n",
       "3  204337   11211  1002420.35833  199244.253136  -73.93445616  40.71353749   \n",
       "4  189565   11215  990913.775046  182202.425999  -73.97597938  40.66677776   \n",
       "\n",
       "        spc_common health status  \n",
       "0        red maple   Fair  Alive  \n",
       "1          pin oak   Fair  Alive  \n",
       "2      honeylocust   Good  Alive  \n",
       "3      honeylocust   Good  Alive  \n",
       "4  American linden   Good  Alive  "
      ]
     },
     "execution_count": 43,
     "metadata": {},
     "output_type": "execute_result"
    }
   ],
   "source": [
    "geodf_tree_data.head()"
   ]
  },
  {
   "cell_type": "code",
   "execution_count": 44,
   "id": "59724f74-5f1e-435c-b843-f381a875dd4a",
   "metadata": {},
   "outputs": [
    {
     "name": "stdout",
     "output_type": "stream",
     "text": [
      "<class 'pandas.core.frame.DataFrame'>\n",
      "Int64Index: 585 entries, 0 to 6556\n",
      "Columns: 114 entries, RegionID to 2023-09-30\n",
      "dtypes: float64(105), int64(3), object(6)\n",
      "memory usage: 525.6+ KB\n"
     ]
    }
   ],
   "source": [
    "df_zillow_data.info()"
   ]
  },
  {
   "cell_type": "code",
   "execution_count": 45,
   "id": "e29ae5d9-9768-4590-a2f2-dd63b07dd712",
   "metadata": {},
   "outputs": [
    {
     "data": {
      "text/html": [
       "<div>\n",
       "<style scoped>\n",
       "    .dataframe tbody tr th:only-of-type {\n",
       "        vertical-align: middle;\n",
       "    }\n",
       "\n",
       "    .dataframe tbody tr th {\n",
       "        vertical-align: top;\n",
       "    }\n",
       "\n",
       "    .dataframe thead th {\n",
       "        text-align: right;\n",
       "    }\n",
       "</style>\n",
       "<table border=\"1\" class=\"dataframe\">\n",
       "  <thead>\n",
       "    <tr style=\"text-align: right;\">\n",
       "      <th></th>\n",
       "      <th>RegionID</th>\n",
       "      <th>SizeRank</th>\n",
       "      <th>RegionName</th>\n",
       "      <th>RegionType</th>\n",
       "      <th>StateName</th>\n",
       "      <th>State</th>\n",
       "      <th>City</th>\n",
       "      <th>Metro</th>\n",
       "      <th>CountyName</th>\n",
       "      <th>2015-01-31</th>\n",
       "      <th>...</th>\n",
       "      <th>2022-12-31</th>\n",
       "      <th>2023-01-31</th>\n",
       "      <th>2023-02-28</th>\n",
       "      <th>2023-03-31</th>\n",
       "      <th>2023-04-30</th>\n",
       "      <th>2023-05-31</th>\n",
       "      <th>2023-06-30</th>\n",
       "      <th>2023-07-31</th>\n",
       "      <th>2023-08-31</th>\n",
       "      <th>2023-09-30</th>\n",
       "    </tr>\n",
       "  </thead>\n",
       "  <tbody>\n",
       "    <tr>\n",
       "      <th>0</th>\n",
       "      <td>91982</td>\n",
       "      <td>1</td>\n",
       "      <td>77494</td>\n",
       "      <td>zip</td>\n",
       "      <td>TX</td>\n",
       "      <td>TX</td>\n",
       "      <td>Katy</td>\n",
       "      <td>Houston-The Woodlands-Sugar Land, TX</td>\n",
       "      <td>Fort Bend County</td>\n",
       "      <td>1606.206406</td>\n",
       "      <td>...</td>\n",
       "      <td>1994.653463</td>\n",
       "      <td>2027.438438</td>\n",
       "      <td>2042.237444</td>\n",
       "      <td>2049.325559</td>\n",
       "      <td>2016.531345</td>\n",
       "      <td>2023.438976</td>\n",
       "      <td>2031.558202</td>\n",
       "      <td>2046.144009</td>\n",
       "      <td>2053.486247</td>\n",
       "      <td>2055.771355</td>\n",
       "    </tr>\n",
       "    <tr>\n",
       "      <th>1</th>\n",
       "      <td>91940</td>\n",
       "      <td>3</td>\n",
       "      <td>77449</td>\n",
       "      <td>zip</td>\n",
       "      <td>TX</td>\n",
       "      <td>TX</td>\n",
       "      <td>Katy</td>\n",
       "      <td>Houston-The Woodlands-Sugar Land, TX</td>\n",
       "      <td>Harris County</td>\n",
       "      <td>1257.814660</td>\n",
       "      <td>...</td>\n",
       "      <td>1749.697900</td>\n",
       "      <td>1738.217986</td>\n",
       "      <td>1747.305840</td>\n",
       "      <td>1758.407295</td>\n",
       "      <td>1758.891075</td>\n",
       "      <td>1762.980879</td>\n",
       "      <td>1771.751591</td>\n",
       "      <td>1779.338402</td>\n",
       "      <td>1795.384582</td>\n",
       "      <td>1799.631140</td>\n",
       "    </tr>\n",
       "    <tr>\n",
       "      <th>8</th>\n",
       "      <td>91926</td>\n",
       "      <td>11</td>\n",
       "      <td>77433</td>\n",
       "      <td>zip</td>\n",
       "      <td>TX</td>\n",
       "      <td>TX</td>\n",
       "      <td>Cypress</td>\n",
       "      <td>Houston-The Woodlands-Sugar Land, TX</td>\n",
       "      <td>Harris County</td>\n",
       "      <td>1332.384333</td>\n",
       "      <td>...</td>\n",
       "      <td>1881.204550</td>\n",
       "      <td>1885.695935</td>\n",
       "      <td>1884.894986</td>\n",
       "      <td>1880.532012</td>\n",
       "      <td>1870.035369</td>\n",
       "      <td>1863.111029</td>\n",
       "      <td>1892.511066</td>\n",
       "      <td>1922.759295</td>\n",
       "      <td>1945.581823</td>\n",
       "      <td>1975.672556</td>\n",
       "    </tr>\n",
       "    <tr>\n",
       "      <th>15</th>\n",
       "      <td>62037</td>\n",
       "      <td>19</td>\n",
       "      <td>11226</td>\n",
       "      <td>zip</td>\n",
       "      <td>NY</td>\n",
       "      <td>NY</td>\n",
       "      <td>New York</td>\n",
       "      <td>New York-Newark-Jersey City, NY-NJ-PA</td>\n",
       "      <td>Kings County</td>\n",
       "      <td>1944.609891</td>\n",
       "      <td>...</td>\n",
       "      <td>2695.164727</td>\n",
       "      <td>2680.683700</td>\n",
       "      <td>2676.791284</td>\n",
       "      <td>2697.414702</td>\n",
       "      <td>2706.080701</td>\n",
       "      <td>2726.381017</td>\n",
       "      <td>2753.966159</td>\n",
       "      <td>2770.403005</td>\n",
       "      <td>2785.320137</td>\n",
       "      <td>2762.435713</td>\n",
       "    </tr>\n",
       "    <tr>\n",
       "      <th>17</th>\n",
       "      <td>70829</td>\n",
       "      <td>21</td>\n",
       "      <td>30044</td>\n",
       "      <td>zip</td>\n",
       "      <td>GA</td>\n",
       "      <td>GA</td>\n",
       "      <td>Lawrenceville</td>\n",
       "      <td>Atlanta-Sandy Springs-Alpharetta, GA</td>\n",
       "      <td>Gwinnett County</td>\n",
       "      <td>1157.569878</td>\n",
       "      <td>...</td>\n",
       "      <td>2125.698496</td>\n",
       "      <td>2113.964250</td>\n",
       "      <td>2170.556028</td>\n",
       "      <td>2160.008767</td>\n",
       "      <td>2191.894968</td>\n",
       "      <td>2181.780560</td>\n",
       "      <td>2161.711011</td>\n",
       "      <td>2117.990720</td>\n",
       "      <td>2119.319392</td>\n",
       "      <td>2055.476496</td>\n",
       "    </tr>\n",
       "  </tbody>\n",
       "</table>\n",
       "<p>5 rows × 114 columns</p>\n",
       "</div>"
      ],
      "text/plain": [
       "    RegionID  SizeRank  RegionName RegionType StateName State           City  \\\n",
       "0      91982         1       77494        zip        TX    TX           Katy   \n",
       "1      91940         3       77449        zip        TX    TX           Katy   \n",
       "8      91926        11       77433        zip        TX    TX        Cypress   \n",
       "15     62037        19       11226        zip        NY    NY       New York   \n",
       "17     70829        21       30044        zip        GA    GA  Lawrenceville   \n",
       "\n",
       "                                    Metro        CountyName   2015-01-31  ...  \\\n",
       "0    Houston-The Woodlands-Sugar Land, TX  Fort Bend County  1606.206406  ...   \n",
       "1    Houston-The Woodlands-Sugar Land, TX     Harris County  1257.814660  ...   \n",
       "8    Houston-The Woodlands-Sugar Land, TX     Harris County  1332.384333  ...   \n",
       "15  New York-Newark-Jersey City, NY-NJ-PA      Kings County  1944.609891  ...   \n",
       "17   Atlanta-Sandy Springs-Alpharetta, GA   Gwinnett County  1157.569878  ...   \n",
       "\n",
       "     2022-12-31   2023-01-31   2023-02-28   2023-03-31   2023-04-30  \\\n",
       "0   1994.653463  2027.438438  2042.237444  2049.325559  2016.531345   \n",
       "1   1749.697900  1738.217986  1747.305840  1758.407295  1758.891075   \n",
       "8   1881.204550  1885.695935  1884.894986  1880.532012  1870.035369   \n",
       "15  2695.164727  2680.683700  2676.791284  2697.414702  2706.080701   \n",
       "17  2125.698496  2113.964250  2170.556028  2160.008767  2191.894968   \n",
       "\n",
       "     2023-05-31   2023-06-30   2023-07-31   2023-08-31   2023-09-30  \n",
       "0   2023.438976  2031.558202  2046.144009  2053.486247  2055.771355  \n",
       "1   1762.980879  1771.751591  1779.338402  1795.384582  1799.631140  \n",
       "8   1863.111029  1892.511066  1922.759295  1945.581823  1975.672556  \n",
       "15  2726.381017  2753.966159  2770.403005  2785.320137  2762.435713  \n",
       "17  2181.780560  2161.711011  2117.990720  2119.319392  2055.476496  \n",
       "\n",
       "[5 rows x 114 columns]"
      ]
     },
     "execution_count": 45,
     "metadata": {},
     "output_type": "execute_result"
    }
   ],
   "source": [
    "df_zillow_data.head()"
   ]
  },
  {
   "cell_type": "markdown",
   "id": "e685942c-26dc-40db-84c2-a71aa3340806",
   "metadata": {},
   "source": [
    "## Part 2: Storing Data"
   ]
  },
  {
   "cell_type": "code",
   "execution_count": 87,
   "id": "c774af5e",
   "metadata": {},
   "outputs": [],
   "source": [
    "!createdb {DB_NAME}"
   ]
  },
  {
   "cell_type": "code",
   "execution_count": 88,
   "id": "a10a2979",
   "metadata": {},
   "outputs": [
    {
     "name": "stdout",
     "output_type": "stream",
     "text": [
      "CREATE EXTENSION\r\n"
     ]
    }
   ],
   "source": [
    "!psql --dbname {DB_NAME} -c 'CREATE EXTENSION postgis;'"
   ]
  },
  {
   "cell_type": "code",
   "execution_count": 52,
   "id": "f349fbdd-67d0-40a4-97a0-d9b8c8ec8013",
   "metadata": {},
   "outputs": [],
   "source": [
    "# def setup_new_postgis_database(username, db_name):\n",
    "#     conn = psycopg2.connect(dbname=\"postgres\", user=username)\n",
    "#     conn.autocommit = True\n",
    "#     cursor = conn.cursor()\n",
    "#     cursor.execute(f\"CREATE DATABASE {db_name}\")\n",
    "#     cursor.close()\n",
    "#     conn.close()\n",
    "\n",
    "#     # CREATE EXTENSION postgis\n",
    "#     engine = create_engine(DB_URL)\n",
    "#     with engine.connect() as conn:\n",
    "#         conn.execute(\"CREATE EXTENSION IF NOT EXISTS postgis\")\n"
   ]
  },
  {
   "cell_type": "code",
   "execution_count": 53,
   "id": "590ed80d-7b60-484f-a123-23b673b0f440",
   "metadata": {},
   "outputs": [
    {
     "ename": "DuplicateDatabase",
     "evalue": "database \"nyc_data1\" already exists\n",
     "output_type": "error",
     "traceback": [
      "\u001b[0;31m---------------------------------------------------------------------------\u001b[0m",
      "\u001b[0;31mDuplicateDatabase\u001b[0m                         Traceback (most recent call last)",
      "Cell \u001b[0;32mIn[53], line 1\u001b[0m\n\u001b[0;32m----> 1\u001b[0m setup_new_postgis_database(DB_USER, DB_NAME)\n",
      "Cell \u001b[0;32mIn[52], line 5\u001b[0m, in \u001b[0;36msetup_new_postgis_database\u001b[0;34m(username, db_name)\u001b[0m\n\u001b[1;32m      3\u001b[0m conn\u001b[38;5;241m.\u001b[39mautocommit \u001b[38;5;241m=\u001b[39m \u001b[38;5;28;01mTrue\u001b[39;00m\n\u001b[1;32m      4\u001b[0m cursor \u001b[38;5;241m=\u001b[39m conn\u001b[38;5;241m.\u001b[39mcursor()\n\u001b[0;32m----> 5\u001b[0m cursor\u001b[38;5;241m.\u001b[39mexecute(\u001b[38;5;124mf\u001b[39m\u001b[38;5;124m\"\u001b[39m\u001b[38;5;124mCREATE DATABASE \u001b[39m\u001b[38;5;132;01m{\u001b[39;00mdb_name\u001b[38;5;132;01m}\u001b[39;00m\u001b[38;5;124m\"\u001b[39m)\n\u001b[1;32m      6\u001b[0m cursor\u001b[38;5;241m.\u001b[39mclose()\n\u001b[1;32m      7\u001b[0m conn\u001b[38;5;241m.\u001b[39mclose()\n",
      "\u001b[0;31mDuplicateDatabase\u001b[0m: database \"nyc_data1\" already exists\n"
     ]
    }
   ],
   "source": [
    "# setup_new_postgis_database(DB_USER, DB_NAME)"
   ]
  },
  {
   "cell_type": "markdown",
   "id": "527a251c-f337-4b24-bb41-96ee4621a9bd",
   "metadata": {},
   "source": [
    "### Creating Tables\n",
    "\n",
    "\n",
    "These are just a couple of options to creating your tables; you can use one or the other, a different method, or a combination."
   ]
  },
  {
   "cell_type": "code",
   "execution_count": 89,
   "id": "e3d72390-3c2d-4856-82c0-3284e8ccb24e",
   "metadata": {},
   "outputs": [],
   "source": [
    "engine = db.create_engine(DB_URL)"
   ]
  },
  {
   "cell_type": "markdown",
   "id": "2ac07405-dc2b-47af-9dad-6a9b94d2b34c",
   "metadata": {},
   "source": [
    "#### Option 1: SQL"
   ]
  },
  {
   "cell_type": "code",
   "execution_count": 90,
   "id": "490d0cc6-74b3-4d35-a454-57f647c9f8e3",
   "metadata": {},
   "outputs": [],
   "source": [
    "# if using SQL (as opposed to SQLAlchemy), define the SQL statements to create your 4 tables\n",
    "ZIPCODE_SCHEMA = \"\"\"\n",
    "CREATE TABLE IF NOT EXISTS zipcodes\n",
    "(\n",
    "    ZIPCODE TEXT PRIMARY KEY NOT NULL,\n",
    "    BLDGZIP TEXT, \n",
    "    PO_NAME TEXT, \n",
    "    POPULATION DOUBLE PRECISION, \n",
    "    AREA DOUBLE PRECISION, \n",
    "    STATE TEXT,\n",
    "    COUNTY TEXT,\n",
    "    ST_FIPS TEXT,\n",
    "    CTY_FIPS TEXT, \n",
    "    URL TEXT, \n",
    "    SHAPE_AREA DOUBLE PRECISION, \n",
    "    SHAPE_LEN DOUBLE PRECISION,\n",
    "    geometry GEOMETRY\n",
    ");\n",
    "\"\"\"\n",
    "\n",
    "NYC_311_SCHEMA = \"\"\"\n",
    "CREATE TABLE IF NOT EXISTS complaints\n",
    "(\n",
    "    unique_key TEXT PRIMARY KEY NOT NULL,\n",
    "    created_date DATE,\n",
    "    incident_zip TEXT,\n",
    "    complaint_type TEXT\n",
    ");\n",
    "\"\"\"\n",
    "\n",
    "NYC_TREE_SCHEMA = \"\"\"\n",
    "CREATE TABLE IF NOT EXISTS trees\n",
    "(\n",
    "    tree_id INTEGER PRIMARY KEY NOT NULL,\n",
    "    zipcode TEXT,\n",
    "    x_sp NUMERIC,\n",
    "    y_sp NUMERIC,\n",
    "    longitude NUMERIC,\n",
    "    latitude NUMERIC,\n",
    "    spc_common TEXT,\n",
    "    health TEXT,\n",
    "    status TEXT\n",
    ");\n",
    "\"\"\"\n",
    "\n",
    "ZILLOW_SCHEMA = \"\"\"\n",
    "CREATE TABLE IF NOT EXISTS rents\n",
    "(\n",
    "    region_id INTEGER PRIMARY KEY NOT NULL,\n",
    "    region_name TEXT,\n",
    "    SizeRank INTEGER,\n",
    "    Region_type TEXT,\n",
    "    StateName TEXT,\n",
    "    State TEXT,\n",
    "    City TEXT,\n",
    "    Metro TEXT,\n",
    "    CountryName TEXT,\n",
    "    \"2015-01-31\" FLOAT,\n",
    "    \"2015-02-28\" FLOAT,\n",
    "    \"2015-03-31\" FLOAT,\n",
    "    \"2015-04-30\" FLOAT,\n",
    "    \"2015-05-31\" FLOAT,\n",
    "    \"2015-06-30\" FLOAT,\n",
    "    \"2015-07-31\" FLOAT,\n",
    "    \"2015-08-31\" FLOAT,\n",
    "    \"2015-09-30\" FLOAT,\n",
    "    \"2015-10-31\" FLOAT,\n",
    "    \"2015-11-30\" FLOAT,\n",
    "    \"2015-12-31\" FLOAT,\n",
    "    \"2016-01-31\" FLOAT,\n",
    "    \"2016-02-29\" FLOAT,\n",
    "    \"2016-03-31\" FLOAT,\n",
    "    \"2016-04-30\" FLOAT,\n",
    "    \"2016-05-31\" FLOAT,\n",
    "    \"2016-06-30\" FLOAT,\n",
    "    \"2016-07-31\" FLOAT,\n",
    "    \"2016-08-31\" FLOAT,\n",
    "    \"2016-09-30\" FLOAT,\n",
    "    \"2016-10-31\" FLOAT,\n",
    "    \"2016-11-30\" FLOAT,\n",
    "    \"2016-12-31\" FLOAT,\n",
    "    \"2017-01-31\" FLOAT,\n",
    "    \"2017-02-28\" FLOAT,\n",
    "    \"2017-03-31\" FLOAT,\n",
    "    \"2017-04-30\" FLOAT,\n",
    "    \"2017-05-31\" FLOAT,\n",
    "    \"2017-06-30\" FLOAT,\n",
    "    \"2017-07-31\" FLOAT,\n",
    "    \"2017-08-31\" FLOAT,\n",
    "    \"2017-09-30\" FLOAT,\n",
    "    \"2017-10-31\" FLOAT,\n",
    "    \"2017-11-30\" FLOAT,\n",
    "    \"2017-12-31\" FLOAT,\n",
    "    \"2018-01-31\" FLOAT,\n",
    "    \"2018-02-28\" FLOAT,\n",
    "    \"2018-03-31\" FLOAT,\n",
    "    \"2018-04-30\" FLOAT,\n",
    "    \"2018-05-31\" FLOAT,\n",
    "    \"2018-06-30\" FLOAT,\n",
    "    \"2018-07-31\" FLOAT,\n",
    "    \"2018-08-31\" FLOAT,\n",
    "    \"2018-09-30\" FLOAT,\n",
    "    \"2018-10-31\" FLOAT,\n",
    "    \"2018-11-30\" FLOAT,\n",
    "    \"2018-12-31\" FLOAT,\n",
    "    \"2019-01-31\" FLOAT,\n",
    "    \"2019-02-28\" FLOAT,\n",
    "    \"2019-03-31\" FLOAT,\n",
    "    \"2019-04-30\" FLOAT,\n",
    "    \"2019-05-31\" FLOAT,\n",
    "    \"2019-06-30\" FLOAT,\n",
    "    \"2019-07-31\" FLOAT,\n",
    "    \"2019-08-31\" FLOAT,\n",
    "    \"2019-09-30\" FLOAT,\n",
    "    \"2019-10-31\" FLOAT,\n",
    "    \"2019-11-30\" FLOAT,\n",
    "    \"2019-12-31\" FLOAT,\n",
    "    \"2020-01-31\" FLOAT,\n",
    "    \"2020-02-29\" FLOAT,\n",
    "    \"2020-03-31\" FLOAT,\n",
    "    \"2020-04-30\" FLOAT,\n",
    "    \"2020-05-31\" FLOAT,\n",
    "    \"2020-06-30\" FLOAT,\n",
    "    \"2020-07-31\" FLOAT,\n",
    "    \"2020-08-31\" FLOAT,\n",
    "    \"2020-09-30\" FLOAT,\n",
    "    \"2020-10-31\" FLOAT,\n",
    "    \"2020-11-30\" FLOAT,\n",
    "    \"2020-12-31\" FLOAT,\n",
    "    \"2021-01-31\" FLOAT,\n",
    "    \"2021-02-28\" FLOAT,\n",
    "    \"2021-03-31\" FLOAT,\n",
    "    \"2021-04-30\" FLOAT,\n",
    "    \"2021-05-31\" FLOAT,\n",
    "    \"2021-06-30\" FLOAT,\n",
    "    \"2021-07-31\" FLOAT,\n",
    "    \"2021-08-31\" FLOAT,\n",
    "    \"2021-09-30\" FLOAT,\n",
    "    \"2021-10-31\" FLOAT\n",
    "    \n",
    ");\n",
    "\"\"\""
   ]
  },
  {
   "cell_type": "code",
   "execution_count": 91,
   "id": "f36d86f6-ff6e-4bb8-8fa2-df0d4282e959",
   "metadata": {},
   "outputs": [],
   "source": [
    "# create that required schema.sql file\n",
    "with open(DB_SCHEMA_FILE, \"w\") as f:\n",
    "    f.write(ZIPCODE_SCHEMA)\n",
    "    f.write(NYC_311_SCHEMA)\n",
    "    f.write(NYC_TREE_SCHEMA)\n",
    "    f.write(ZILLOW_SCHEMA)"
   ]
  },
  {
   "cell_type": "code",
   "execution_count": 92,
   "id": "48eacd37-4fd7-4768-b689-88b07d5c234e",
   "metadata": {},
   "outputs": [],
   "source": [
    "with open(DB_SCHEMA_FILE,mode='r') as f:\n",
    "    schema = f.read()\n",
    "with engine.connect() as conn:\n",
    "    conn.execute(schema)"
   ]
  },
  {
   "cell_type": "markdown",
   "id": "232a2d89-b276-4d44-a0ef-3631eb686e84",
   "metadata": {},
   "source": [
    "#### Option 2: SQLAlchemy"
   ]
  },
  {
   "cell_type": "code",
   "execution_count": null,
   "id": "d41c42e1-4ad4-4c43-a2ba-1dbcac1de557",
   "metadata": {},
   "outputs": [],
   "source": [
    "# Base = declarative_base()\n",
    "\n",
    "# class Tree(Base):\n",
    "#     __tablename__ = \"trees\"\n",
    "\n",
    "#     ...\n"
   ]
  },
  {
   "cell_type": "code",
   "execution_count": null,
   "id": "5b3a9c3d-e6d6-4e01-8247-e9d465381ce6",
   "metadata": {},
   "outputs": [],
   "source": [
    "# Base.metadata.create_all(engine)"
   ]
  },
  {
   "cell_type": "markdown",
   "id": "2e88a50c-9528-4a5c-9a52-b96781ee8985",
   "metadata": {},
   "source": [
    "### Add Data to Database\n",
    "\n",
    "These are just a couple of options to write data to your tables; you can use one or the other, a different method, or a combination."
   ]
  },
  {
   "cell_type": "markdown",
   "id": "0c66af67-afb8-4f0d-bb57-552972f8e4b8",
   "metadata": {},
   "source": [
    "#### Option 1: SQL"
   ]
  },
  {
   "cell_type": "code",
   "execution_count": 93,
   "id": "69e37800-cd95-44b5-9c21-eb7ac2b2e4ec",
   "metadata": {},
   "outputs": [],
   "source": [
    "def write_dataframes_to_table(tablename_to_dataframe):\n",
    "    engine = create_engine(DB_URL) \n",
    "    for tablename in tablename_to_dataframe:\n",
    "        if tablename == \"zipcodes\":\n",
    "            geodf_zipcode_data.to_postgis(tablename, engine,if_exists=\"replace\") \n",
    "        else:\n",
    "            tablename_to_dataframe[tablename].to_sql(tablename, engine, if_exists= 'replace')"
   ]
  },
  {
   "cell_type": "code",
   "execution_count": 94,
   "id": "d1f042f5-8270-477d-929a-872f7d9a0bc8",
   "metadata": {},
   "outputs": [],
   "source": [
    "tablename_to_dataframe = {\n",
    "    \"zipcodes\": geodf_zipcode_data,\n",
    "    \"complaints\": geodf_311_data,\n",
    "    \"trees\": geodf_tree_data,\n",
    "    \"rents\": df_zillow_data,\n",
    "}"
   ]
  },
  {
   "cell_type": "code",
   "execution_count": 95,
   "id": "9d052c50-1e43-4356-bcac-4f5abc7e714b",
   "metadata": {},
   "outputs": [],
   "source": [
    "write_dataframes_to_table(tablename_to_dataframe)"
   ]
  },
  {
   "cell_type": "markdown",
   "id": "e4708cb4-d034-43b6-955b-a21d0eab74d4",
   "metadata": {},
   "source": [
    "#### Option 2: SQLAlchemy"
   ]
  },
  {
   "cell_type": "code",
   "execution_count": null,
   "id": "210ddbad-3b11-47a2-9245-935f482fa7ea",
   "metadata": {},
   "outputs": [],
   "source": [
    "# Session = db.orm.sessionmaker(bind=engine)\n",
    "# session = Session()"
   ]
  },
  {
   "cell_type": "code",
   "execution_count": null,
   "id": "3f2b21c6-59d9-4bae-8c33-ab4b49ff2b3a",
   "metadata": {},
   "outputs": [],
   "source": [
    "# for row in geodf_tree_data.iterrows():\n",
    "#     tree = Tree(...)\n",
    "#     session.add(tree)"
   ]
  },
  {
   "cell_type": "code",
   "execution_count": null,
   "id": "83e4bfb9-4fbc-45fe-8a98-a760a22234f8",
   "metadata": {},
   "outputs": [],
   "source": [
    "# session.commit()"
   ]
  },
  {
   "cell_type": "markdown",
   "id": "eb63b553-0c64-4da8-9fc7-41555d89d853",
   "metadata": {},
   "source": [
    "## Part 3: Understanding the Data"
   ]
  },
  {
   "cell_type": "markdown",
   "id": "7ac7e12b-e251-4f08-8dc5-601db30c2089",
   "metadata": {},
   "source": [
    "### Query 1"
   ]
  },
  {
   "cell_type": "code",
   "execution_count": null,
   "id": "d6ce8548-4aba-4bf9-992c-dedd0f249db4",
   "metadata": {},
   "outputs": [],
   "source": [
    "# Helper function to write the queries to file\n",
    "def write_query_to_file(query, outfile):\n",
    "    raise NotImplementedError()"
   ]
  },
  {
   "cell_type": "code",
   "execution_count": null,
   "id": "6605e6f3-ec42-4a8b-833c-5138c14b678b",
   "metadata": {},
   "outputs": [],
   "source": [
    "QUERY_1_FILENAME = QUERY_DIR / \"FILL_ME_IN\"\n",
    "\n",
    "QUERY_1 = \"\"\"\n",
    "FILL_ME_IN\n",
    "\"\"\""
   ]
  },
  {
   "cell_type": "code",
   "execution_count": null,
   "id": "ce044adf-ecdf-4237-9b20-b7cdaaab0c6c",
   "metadata": {},
   "outputs": [],
   "source": [
    "with engine.connect() as conn:\n",
    "    result = conn.execute(db.text(QUERY_1))\n",
    "    for row in result:\n",
    "        print(row)"
   ]
  },
  {
   "cell_type": "code",
   "execution_count": null,
   "id": "4b7b2c3d-8961-4c7e-8eb1-fc973d0ab9c1",
   "metadata": {},
   "outputs": [],
   "source": [
    "write_query_to_file(QUERY_1, QUERY_1_FILENAME)"
   ]
  },
  {
   "cell_type": "markdown",
   "id": "75223ce5-6ab5-4613-b6af-fa8e33bcc7d5",
   "metadata": {},
   "source": [
    "## Part 4: Visualizing the Data"
   ]
  },
  {
   "cell_type": "markdown",
   "id": "b21fcfed-ddbb-4908-a60e-ed7cbc6d5b00",
   "metadata": {},
   "source": [
    "### Visualization 1"
   ]
  },
  {
   "cell_type": "code",
   "execution_count": null,
   "id": "6f0e2cde-e43b-407b-ab93-ff85a2dba469",
   "metadata": {},
   "outputs": [],
   "source": [
    "# use a more descriptive name for your function\n",
    "def plot_visual_1(dataframe):\n",
    "    figure, axes = plt.subplots(figsize=(20, 10))\n",
    "    \n",
    "    values = \"...\"  # use the dataframe to pull out values needed to plot\n",
    "    \n",
    "    # you may want to use matplotlib to plot your visualizations;\n",
    "    # there are also many other plot types (other \n",
    "    # than axes.plot) you can use\n",
    "    axes.plot(values, \"...\")\n",
    "    # there are other methods to use to label your axes, to style \n",
    "    # and set up axes labels, etc\n",
    "    axes.set_title(\"Some Descriptive Title\")\n",
    "    \n",
    "    plt.show()"
   ]
  },
  {
   "cell_type": "code",
   "execution_count": null,
   "id": "ed80755f-d1e1-4e53-8ef8-f5295c59a3fe",
   "metadata": {},
   "outputs": [],
   "source": [
    "def get_data_for_visual_1():\n",
    "    # Query your database for the data needed.\n",
    "    # You can put the data queried into a pandas/geopandas dataframe, if you wish\n",
    "    raise NotImplementedError()"
   ]
  },
  {
   "cell_type": "code",
   "execution_count": null,
   "id": "f6a2632a-b516-4a6e-8b67-97116ab6fce4",
   "metadata": {},
   "outputs": [],
   "source": [
    "some_dataframe = get_data_for_visual_1()\n",
    "plot_visual_1(some_dataframe)"
   ]
  }
 ],
 "metadata": {
  "kernelspec": {
   "display_name": "Python 3 (ipykernel)",
   "language": "python",
   "name": "python3"
  },
  "language_info": {
   "codemirror_mode": {
    "name": "ipython",
    "version": 3
   },
   "file_extension": ".py",
   "mimetype": "text/x-python",
   "name": "python",
   "nbconvert_exporter": "python",
   "pygments_lexer": "ipython3",
   "version": "3.11.4"
  }
 },
 "nbformat": 4,
 "nbformat_minor": 5
}
