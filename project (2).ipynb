{
 "cells": [
  {
   "cell_type": "markdown",
   "id": "57b78317",
   "metadata": {},
   "source": [
    "# 1 Data Preprocessing"
   ]
  },
  {
   "cell_type": "markdown",
   "id": "6257c15d",
   "metadata": {},
   "source": [
    "#### Objective: Cleaning & filtering: \n",
    "\n",
    "You must use the pandas and geopandas packages to load and clean all the datasets. The process of cleaning & filtering the data should include: \n",
    "\n",
    "●Removing unnecessary columns, and only keeping columns needed to answer questions in the other parts of this project;\n",
    "\n",
    "●Remove invalid data points (use your discretion!);\n",
    "\n",
    "●Normalize column names & column types where needed;\n",
    "\n",
    "●Normalize the Spatial Reference Identifiers (SRID) of any geometry."
   ]
  },
  {
   "cell_type": "markdown",
   "id": "2ceba127",
   "metadata": {},
   "source": [
    "Tips: Use Soql to control download data\n",
    "\n",
    "https://dev.socrata.com/docs/queries/"
   ]
  },
  {
   "cell_type": "markdown",
   "id": "d924f51b",
   "metadata": {},
   "source": [
    "#### Define a function to get data from NYCopen"
   ]
  },
  {
   "cell_type": "code",
   "execution_count": 27,
   "id": "f957adf3",
   "metadata": {},
   "outputs": [],
   "source": [
    "import pandas as pd\n",
    "import requests\n",
    "\n",
    "def get_dataframe(url):\n",
    "    headers = {\n",
    "       'Accept': 'application/json',\n",
    "       'X-App-Token': '8ITaLVGKJEzelLCfrNyuIi2rJ' \n",
    "        }\n",
    "\n",
    "    response = requests.get(url, headers=headers)\n",
    "    data = response.json()\n",
    "\n",
    "    return pd.DataFrame(data)"
   ]
  },
  {
   "cell_type": "markdown",
   "id": "a4c22f7e",
   "metadata": {},
   "source": [
    "###  1.1 Download 311 data"
   ]
  },
  {
   "cell_type": "code",
   "execution_count": 28,
   "id": "d71fe661",
   "metadata": {},
   "outputs": [],
   "source": [
    "url_311 = \"https://data.cityofnewyork.us/resource/erm2-nwe9.json?$limit=100 \"\n",
    "df_311=get_dataframe(url_311)"
   ]
  },
  {
   "cell_type": "markdown",
   "id": "4a8c288d",
   "metadata": {},
   "source": [
    "#### 1.1.1 choose specific data range:"
   ]
  },
  {
   "cell_type": "code",
   "execution_count": null,
   "id": "57a9db8b",
   "metadata": {},
   "outputs": [],
   "source": [
    "#先用这个时间范围 等最后再导入真实的数据库\n",
    "\n",
    "\n",
    "$where=created_date between'2015-10-01T12:00:00.000'and '2023-09-30T12:00:00.000'"
   ]
  },
  {
   "cell_type": "code",
   "execution_count": null,
   "id": "fbf4c859",
   "metadata": {},
   "outputs": [],
   "source": [
    "df_311['created_date'].max()\n",
    "df_311['created_date'].min()"
   ]
  },
  {
   "cell_type": "markdown",
   "id": "380152f7",
   "metadata": {},
   "source": [
    "#### 1.1.2 Choose specific column"
   ]
  },
  {
   "cell_type": "code",
   "execution_count": 50,
   "id": "9703f0e4",
   "metadata": {},
   "outputs": [],
   "source": [
    "new_311=df_311[['unique_key','created_date','incident_zip','complaint_type']]"
   ]
  },
  {
   "cell_type": "markdown",
   "id": "ada46645",
   "metadata": {},
   "source": [
    "#### 1.1.3 remove invalid data points "
   ]
  },
  {
   "cell_type": "markdown",
   "id": "c48e8613",
   "metadata": {},
   "source": [
    "*处理缺失值 fill missing data\n",
    "\n",
    "*处理数据类型错误\n",
    "\n",
    "*处理异常值"
   ]
  },
  {
   "cell_type": "code",
   "execution_count": 55,
   "id": "7087fb8f",
   "metadata": {},
   "outputs": [
    {
     "data": {
      "text/html": [
       "<div>\n",
       "<style scoped>\n",
       "    .dataframe tbody tr th:only-of-type {\n",
       "        vertical-align: middle;\n",
       "    }\n",
       "\n",
       "    .dataframe tbody tr th {\n",
       "        vertical-align: top;\n",
       "    }\n",
       "\n",
       "    .dataframe thead th {\n",
       "        text-align: right;\n",
       "    }\n",
       "</style>\n",
       "<table border=\"1\" class=\"dataframe\">\n",
       "  <thead>\n",
       "    <tr style=\"text-align: right;\">\n",
       "      <th></th>\n",
       "      <th>unique_key</th>\n",
       "      <th>created_date</th>\n",
       "      <th>incident_zip</th>\n",
       "      <th>complaint_type</th>\n",
       "    </tr>\n",
       "  </thead>\n",
       "  <tbody>\n",
       "    <tr>\n",
       "      <th>0</th>\n",
       "      <td>59545060</td>\n",
       "      <td>2023-11-26T12:00:00.000</td>\n",
       "      <td>10466</td>\n",
       "      <td>Derelict Vehicles</td>\n",
       "    </tr>\n",
       "    <tr>\n",
       "      <th>1</th>\n",
       "      <td>59547157</td>\n",
       "      <td>2023-11-26T12:00:00.000</td>\n",
       "      <td>10466</td>\n",
       "      <td>Derelict Vehicles</td>\n",
       "    </tr>\n",
       "    <tr>\n",
       "      <th>2</th>\n",
       "      <td>59544006</td>\n",
       "      <td>2023-11-26T12:00:00.000</td>\n",
       "      <td>10466</td>\n",
       "      <td>Derelict Vehicles</td>\n",
       "    </tr>\n",
       "    <tr>\n",
       "      <th>3</th>\n",
       "      <td>59549309</td>\n",
       "      <td>2023-11-26T12:00:00.000</td>\n",
       "      <td>10466</td>\n",
       "      <td>Derelict Vehicles</td>\n",
       "    </tr>\n",
       "    <tr>\n",
       "      <th>4</th>\n",
       "      <td>59550253</td>\n",
       "      <td>2023-11-26T01:06:18.000</td>\n",
       "      <td>11203</td>\n",
       "      <td>Noise - Commercial</td>\n",
       "    </tr>\n",
       "  </tbody>\n",
       "</table>\n",
       "</div>"
      ],
      "text/plain": [
       "  unique_key             created_date incident_zip      complaint_type\n",
       "0   59545060  2023-11-26T12:00:00.000        10466   Derelict Vehicles\n",
       "1   59547157  2023-11-26T12:00:00.000        10466   Derelict Vehicles\n",
       "2   59544006  2023-11-26T12:00:00.000        10466   Derelict Vehicles\n",
       "3   59549309  2023-11-26T12:00:00.000        10466   Derelict Vehicles\n",
       "4   59550253  2023-11-26T01:06:18.000        11203  Noise - Commercial"
      ]
     },
     "execution_count": 55,
     "metadata": {},
     "output_type": "execute_result"
    }
   ],
   "source": [
    "new_311.head()"
   ]
  },
  {
   "cell_type": "code",
   "execution_count": 53,
   "id": "3cd6c583",
   "metadata": {},
   "outputs": [
    {
     "data": {
      "text/plain": [
       "0     59545060\n",
       "1     59547157\n",
       "2     59544006\n",
       "3     59549309\n",
       "4     59550253\n",
       "        ...   \n",
       "95    59542895\n",
       "96    59542795\n",
       "97    59548177\n",
       "98    59549270\n",
       "99    59544982\n",
       "Name: unique_key, Length: 100, dtype: object"
      ]
     },
     "execution_count": 53,
     "metadata": {},
     "output_type": "execute_result"
    }
   ],
   "source": [
    "#删除没有unique_key的列\n",
    "new_311['unique_key'].dropna()"
   ]
  },
  {
   "cell_type": "code",
   "execution_count": null,
   "id": "79beab0e",
   "metadata": {},
   "outputs": [],
   "source": []
  },
  {
   "cell_type": "code",
   "execution_count": null,
   "id": "3be601e8",
   "metadata": {},
   "outputs": [],
   "source": []
  },
  {
   "cell_type": "markdown",
   "id": "56ecd3cb",
   "metadata": {},
   "source": [
    "#### 1.1.4 Normalization column types "
   ]
  },
  {
   "cell_type": "code",
   "execution_count": 36,
   "id": "889f10e7",
   "metadata": {},
   "outputs": [
    {
     "name": "stderr",
     "output_type": "stream",
     "text": [
      "/var/folders/pf/59x1g4vd7fldrp0_p6ps_j4r0000gn/T/ipykernel_73245/579587362.py:4: SettingWithCopyWarning: \n",
      "A value is trying to be set on a copy of a slice from a DataFrame.\n",
      "Try using .loc[row_indexer,col_indexer] = value instead\n",
      "\n",
      "See the caveats in the documentation: https://pandas.pydata.org/pandas-docs/stable/user_guide/indexing.html#returning-a-view-versus-a-copy\n",
      "  new_311['incident_zip'] = new_311['incident_zip'].astype(str)\n",
      "/var/folders/pf/59x1g4vd7fldrp0_p6ps_j4r0000gn/T/ipykernel_73245/579587362.py:5: SettingWithCopyWarning: \n",
      "A value is trying to be set on a copy of a slice from a DataFrame.\n",
      "Try using .loc[row_indexer,col_indexer] = value instead\n",
      "\n",
      "See the caveats in the documentation: https://pandas.pydata.org/pandas-docs/stable/user_guide/indexing.html#returning-a-view-versus-a-copy\n",
      "  new_311['complaint_type'] = new_311['complaint_type'].astype(str)\n",
      "/var/folders/pf/59x1g4vd7fldrp0_p6ps_j4r0000gn/T/ipykernel_73245/579587362.py:6: SettingWithCopyWarning: \n",
      "A value is trying to be set on a copy of a slice from a DataFrame.\n",
      "Try using .loc[row_indexer,col_indexer] = value instead\n",
      "\n",
      "See the caveats in the documentation: https://pandas.pydata.org/pandas-docs/stable/user_guide/indexing.html#returning-a-view-versus-a-copy\n",
      "  new_311['created_date'] = pd.to_datetime(new_311['created_date'])\n"
     ]
    },
    {
     "data": {
      "text/plain": [
       "unique_key                object\n",
       "created_date      datetime64[ns]\n",
       "incident_zip              object\n",
       "complaint_type            object\n",
       "dtype: object"
      ]
     },
     "execution_count": 36,
     "metadata": {},
     "output_type": "execute_result"
    }
   ],
   "source": [
    "new_311.fillna(\"None\")\n",
    "new_311['incident_zip'] = new_311['incident_zip'].astype(str)\n",
    "new_311['complaint_type'] = new_311['complaint_type'].astype(str)\n",
    "new_311['created_date'] = pd.to_datetime(new_311['created_date'])\n",
    "\n",
    "new_311.dtypes"
   ]
  },
  {
   "cell_type": "code",
   "execution_count": null,
   "id": "89d63d0d",
   "metadata": {},
   "outputs": [],
   "source": []
  },
  {
   "cell_type": "code",
   "execution_count": null,
   "id": "9f0fc29c",
   "metadata": {},
   "outputs": [],
   "source": []
  },
  {
   "cell_type": "markdown",
   "id": "77ae1bc0",
   "metadata": {},
   "source": [
    "### 1.2 Download Tree data"
   ]
  },
  {
   "cell_type": "code",
   "execution_count": 44,
   "id": "1ed1b709",
   "metadata": {},
   "outputs": [],
   "source": [
    "url_tree = \"https://data.cityofnewyork.us/resource/uvpi-gqnh.json?$limit=100\"\n",
    "df_tree=get_dataframe(url_tree)"
   ]
  },
  {
   "cell_type": "code",
   "execution_count": null,
   "id": "eeaba737",
   "metadata": {},
   "outputs": [],
   "source": []
  },
  {
   "cell_type": "markdown",
   "id": "916fe08e",
   "metadata": {},
   "source": [
    "#### 1.2.1Choose specific column"
   ]
  },
  {
   "cell_type": "code",
   "execution_count": 56,
   "id": "c107b2fe",
   "metadata": {},
   "outputs": [
    {
     "data": {
      "text/html": [
       "<div>\n",
       "<style scoped>\n",
       "    .dataframe tbody tr th:only-of-type {\n",
       "        vertical-align: middle;\n",
       "    }\n",
       "\n",
       "    .dataframe tbody tr th {\n",
       "        vertical-align: top;\n",
       "    }\n",
       "\n",
       "    .dataframe thead th {\n",
       "        text-align: right;\n",
       "    }\n",
       "</style>\n",
       "<table border=\"1\" class=\"dataframe\">\n",
       "  <thead>\n",
       "    <tr style=\"text-align: right;\">\n",
       "      <th></th>\n",
       "      <th>tree_id</th>\n",
       "      <th>zipcode</th>\n",
       "      <th>x_sp</th>\n",
       "      <th>y_sp</th>\n",
       "      <th>longitude</th>\n",
       "      <th>latitude</th>\n",
       "      <th>spc_common</th>\n",
       "      <th>health</th>\n",
       "      <th>status</th>\n",
       "    </tr>\n",
       "  </thead>\n",
       "  <tbody>\n",
       "    <tr>\n",
       "      <th>0</th>\n",
       "      <td>180683</td>\n",
       "      <td>11375</td>\n",
       "      <td>1027431.148</td>\n",
       "      <td>202756.7687</td>\n",
       "      <td>-73.84421522</td>\n",
       "      <td>40.72309177</td>\n",
       "      <td>red maple</td>\n",
       "      <td>Fair</td>\n",
       "      <td>Alive</td>\n",
       "    </tr>\n",
       "    <tr>\n",
       "      <th>1</th>\n",
       "      <td>200540</td>\n",
       "      <td>11357</td>\n",
       "      <td>1034455.701</td>\n",
       "      <td>228644.8374</td>\n",
       "      <td>-73.81867946</td>\n",
       "      <td>40.79411067</td>\n",
       "      <td>pin oak</td>\n",
       "      <td>Fair</td>\n",
       "      <td>Alive</td>\n",
       "    </tr>\n",
       "    <tr>\n",
       "      <th>2</th>\n",
       "      <td>204026</td>\n",
       "      <td>11211</td>\n",
       "      <td>1001822.831</td>\n",
       "      <td>200716.8913</td>\n",
       "      <td>-73.9366077</td>\n",
       "      <td>40.71758074</td>\n",
       "      <td>honeylocust</td>\n",
       "      <td>Good</td>\n",
       "      <td>Alive</td>\n",
       "    </tr>\n",
       "    <tr>\n",
       "      <th>3</th>\n",
       "      <td>204337</td>\n",
       "      <td>11211</td>\n",
       "      <td>1002420.358</td>\n",
       "      <td>199244.2531</td>\n",
       "      <td>-73.93445616</td>\n",
       "      <td>40.71353749</td>\n",
       "      <td>honeylocust</td>\n",
       "      <td>Good</td>\n",
       "      <td>Alive</td>\n",
       "    </tr>\n",
       "    <tr>\n",
       "      <th>4</th>\n",
       "      <td>189565</td>\n",
       "      <td>11215</td>\n",
       "      <td>990913.775</td>\n",
       "      <td>182202.426</td>\n",
       "      <td>-73.97597938</td>\n",
       "      <td>40.66677776</td>\n",
       "      <td>American linden</td>\n",
       "      <td>Good</td>\n",
       "      <td>Alive</td>\n",
       "    </tr>\n",
       "  </tbody>\n",
       "</table>\n",
       "</div>"
      ],
      "text/plain": [
       "  tree_id zipcode         x_sp         y_sp     longitude     latitude  \\\n",
       "0  180683   11375  1027431.148  202756.7687  -73.84421522  40.72309177   \n",
       "1  200540   11357  1034455.701  228644.8374  -73.81867946  40.79411067   \n",
       "2  204026   11211  1001822.831  200716.8913   -73.9366077  40.71758074   \n",
       "3  204337   11211  1002420.358  199244.2531  -73.93445616  40.71353749   \n",
       "4  189565   11215   990913.775   182202.426  -73.97597938  40.66677776   \n",
       "\n",
       "        spc_common health status  \n",
       "0        red maple   Fair  Alive  \n",
       "1          pin oak   Fair  Alive  \n",
       "2      honeylocust   Good  Alive  \n",
       "3      honeylocust   Good  Alive  \n",
       "4  American linden   Good  Alive  "
      ]
     },
     "execution_count": 56,
     "metadata": {},
     "output_type": "execute_result"
    }
   ],
   "source": [
    "new_tree=df_tree[['tree_id','zipcode','x_sp', 'y_sp','longitude', 'latitude','spc_common','health','status']]\n",
    "new_tree.head()"
   ]
  },
  {
   "cell_type": "markdown",
   "id": "a3fa84ed",
   "metadata": {},
   "source": [
    "#### 1.2.2Clean data"
   ]
  },
  {
   "cell_type": "code",
   "execution_count": null,
   "id": "580c2dc6",
   "metadata": {},
   "outputs": [],
   "source": []
  },
  {
   "cell_type": "markdown",
   "id": "4273ce9c",
   "metadata": {},
   "source": [
    "#### 1.2.3Normalization column types "
   ]
  },
  {
   "cell_type": "code",
   "execution_count": 57,
   "id": "83c8c800",
   "metadata": {},
   "outputs": [
    {
     "data": {
      "text/plain": [
       "tree_id       object\n",
       "zipcode       object\n",
       "x_sp          object\n",
       "y_sp          object\n",
       "longitude     object\n",
       "latitude      object\n",
       "spc_common    object\n",
       "health        object\n",
       "status        object\n",
       "dtype: object"
      ]
     },
     "execution_count": 57,
     "metadata": {},
     "output_type": "execute_result"
    }
   ],
   "source": [
    "new_tree.dtypes"
   ]
  },
  {
   "cell_type": "code",
   "execution_count": null,
   "id": "fb0759eb",
   "metadata": {},
   "outputs": [],
   "source": []
  },
  {
   "cell_type": "code",
   "execution_count": null,
   "id": "a0ada373",
   "metadata": {},
   "outputs": [],
   "source": []
  },
  {
   "cell_type": "markdown",
   "id": "e233a932",
   "metadata": {},
   "source": [
    "### 1.3 Download Geo data"
   ]
  },
  {
   "cell_type": "code",
   "execution_count": null,
   "id": "da21b1af",
   "metadata": {},
   "outputs": [],
   "source": [
    "import geopandas as gpd"
   ]
  },
  {
   "cell_type": "code",
   "execution_count": null,
   "id": "b7c52801",
   "metadata": {},
   "outputs": [],
   "source": [
    "gdf = gpd.read_file('data/nyc_zipcodes.shp')\n",
    "print(gdf.head())\n",
    "gdf.plot()"
   ]
  },
  {
   "cell_type": "code",
   "execution_count": null,
   "id": "1869e95e",
   "metadata": {},
   "outputs": [],
   "source": [
    "gdf2 = gpd.read_file('data/nyc_zipcodes.dbf')\n",
    "gdf2.head()"
   ]
  },
  {
   "cell_type": "markdown",
   "id": "42cbdc98",
   "metadata": {},
   "source": [
    "#### Normalize the Spatial Reference Identifiers (SRID) of any geometry.\n",
    "\n",
    "使用GeoPandas库可以对数据集中的几何要素的空间参考标识（SRID）进行规范化。规范化SRID意味着确保数据集中的所有几何要素都采用相同的参考系统。这个过程有助于在处理空间数据时保持一致性和准确性。"
   ]
  },
  {
   "cell_type": "code",
   "execution_count": null,
   "id": "5c85369b",
   "metadata": {},
   "outputs": [],
   "source": []
  },
  {
   "cell_type": "markdown",
   "id": "931ea6dc",
   "metadata": {},
   "source": [
    "### 1.4 Zillow Rent data"
   ]
  },
  {
   "cell_type": "code",
   "execution_count": 59,
   "id": "a1f5da98",
   "metadata": {},
   "outputs": [
    {
     "data": {
      "text/html": [
       "<div>\n",
       "<style scoped>\n",
       "    .dataframe tbody tr th:only-of-type {\n",
       "        vertical-align: middle;\n",
       "    }\n",
       "\n",
       "    .dataframe tbody tr th {\n",
       "        vertical-align: top;\n",
       "    }\n",
       "\n",
       "    .dataframe thead th {\n",
       "        text-align: right;\n",
       "    }\n",
       "</style>\n",
       "<table border=\"1\" class=\"dataframe\">\n",
       "  <thead>\n",
       "    <tr style=\"text-align: right;\">\n",
       "      <th></th>\n",
       "      <th>RegionID</th>\n",
       "      <th>SizeRank</th>\n",
       "      <th>RegionName</th>\n",
       "      <th>RegionType</th>\n",
       "      <th>StateName</th>\n",
       "      <th>State</th>\n",
       "      <th>City</th>\n",
       "      <th>Metro</th>\n",
       "      <th>CountyName</th>\n",
       "      <th>2015-01-31</th>\n",
       "      <th>...</th>\n",
       "      <th>2022-12-31</th>\n",
       "      <th>2023-01-31</th>\n",
       "      <th>2023-02-28</th>\n",
       "      <th>2023-03-31</th>\n",
       "      <th>2023-04-30</th>\n",
       "      <th>2023-05-31</th>\n",
       "      <th>2023-06-30</th>\n",
       "      <th>2023-07-31</th>\n",
       "      <th>2023-08-31</th>\n",
       "      <th>2023-09-30</th>\n",
       "    </tr>\n",
       "  </thead>\n",
       "  <tbody>\n",
       "    <tr>\n",
       "      <th>0</th>\n",
       "      <td>91982</td>\n",
       "      <td>1</td>\n",
       "      <td>77494</td>\n",
       "      <td>zip</td>\n",
       "      <td>TX</td>\n",
       "      <td>TX</td>\n",
       "      <td>Katy</td>\n",
       "      <td>Houston-The Woodlands-Sugar Land, TX</td>\n",
       "      <td>Fort Bend County</td>\n",
       "      <td>1606.206406</td>\n",
       "      <td>...</td>\n",
       "      <td>1994.653463</td>\n",
       "      <td>2027.438438</td>\n",
       "      <td>2042.237444</td>\n",
       "      <td>2049.325559</td>\n",
       "      <td>2016.531345</td>\n",
       "      <td>2023.438976</td>\n",
       "      <td>2031.558202</td>\n",
       "      <td>2046.144009</td>\n",
       "      <td>2053.486247</td>\n",
       "      <td>2055.771355</td>\n",
       "    </tr>\n",
       "    <tr>\n",
       "      <th>1</th>\n",
       "      <td>91940</td>\n",
       "      <td>3</td>\n",
       "      <td>77449</td>\n",
       "      <td>zip</td>\n",
       "      <td>TX</td>\n",
       "      <td>TX</td>\n",
       "      <td>Katy</td>\n",
       "      <td>Houston-The Woodlands-Sugar Land, TX</td>\n",
       "      <td>Harris County</td>\n",
       "      <td>1257.814660</td>\n",
       "      <td>...</td>\n",
       "      <td>1749.697900</td>\n",
       "      <td>1738.217986</td>\n",
       "      <td>1747.305840</td>\n",
       "      <td>1758.407295</td>\n",
       "      <td>1758.891075</td>\n",
       "      <td>1762.980879</td>\n",
       "      <td>1771.751591</td>\n",
       "      <td>1779.338402</td>\n",
       "      <td>1795.384582</td>\n",
       "      <td>1799.631140</td>\n",
       "    </tr>\n",
       "    <tr>\n",
       "      <th>2</th>\n",
       "      <td>91733</td>\n",
       "      <td>5</td>\n",
       "      <td>77084</td>\n",
       "      <td>zip</td>\n",
       "      <td>TX</td>\n",
       "      <td>TX</td>\n",
       "      <td>Houston</td>\n",
       "      <td>Houston-The Woodlands-Sugar Land, TX</td>\n",
       "      <td>Harris County</td>\n",
       "      <td>NaN</td>\n",
       "      <td>...</td>\n",
       "      <td>1701.217520</td>\n",
       "      <td>1706.900064</td>\n",
       "      <td>1706.067787</td>\n",
       "      <td>1723.722320</td>\n",
       "      <td>1735.484670</td>\n",
       "      <td>1752.132904</td>\n",
       "      <td>1756.990323</td>\n",
       "      <td>1754.429516</td>\n",
       "      <td>1757.602011</td>\n",
       "      <td>1755.031490</td>\n",
       "    </tr>\n",
       "    <tr>\n",
       "      <th>3</th>\n",
       "      <td>93144</td>\n",
       "      <td>6</td>\n",
       "      <td>79936</td>\n",
       "      <td>zip</td>\n",
       "      <td>TX</td>\n",
       "      <td>TX</td>\n",
       "      <td>El Paso</td>\n",
       "      <td>El Paso, TX</td>\n",
       "      <td>El Paso County</td>\n",
       "      <td>NaN</td>\n",
       "      <td>...</td>\n",
       "      <td>1419.480272</td>\n",
       "      <td>1458.063897</td>\n",
       "      <td>1471.726681</td>\n",
       "      <td>1466.734658</td>\n",
       "      <td>1456.175660</td>\n",
       "      <td>1462.478506</td>\n",
       "      <td>1466.267391</td>\n",
       "      <td>1490.237063</td>\n",
       "      <td>1488.180414</td>\n",
       "      <td>1494.366097</td>\n",
       "    </tr>\n",
       "    <tr>\n",
       "      <th>4</th>\n",
       "      <td>62093</td>\n",
       "      <td>7</td>\n",
       "      <td>11385</td>\n",
       "      <td>zip</td>\n",
       "      <td>NY</td>\n",
       "      <td>NY</td>\n",
       "      <td>New York</td>\n",
       "      <td>New York-Newark-Jersey City, NY-NJ-PA</td>\n",
       "      <td>Queens County</td>\n",
       "      <td>NaN</td>\n",
       "      <td>...</td>\n",
       "      <td>2935.808220</td>\n",
       "      <td>2895.699421</td>\n",
       "      <td>2873.209025</td>\n",
       "      <td>2881.906361</td>\n",
       "      <td>2913.546218</td>\n",
       "      <td>2963.964134</td>\n",
       "      <td>3005.735342</td>\n",
       "      <td>3034.413822</td>\n",
       "      <td>3064.476503</td>\n",
       "      <td>3079.585783</td>\n",
       "    </tr>\n",
       "  </tbody>\n",
       "</table>\n",
       "<p>5 rows × 114 columns</p>\n",
       "</div>"
      ],
      "text/plain": [
       "   RegionID  SizeRank  RegionName RegionType StateName State      City  \\\n",
       "0     91982         1       77494        zip        TX    TX      Katy   \n",
       "1     91940         3       77449        zip        TX    TX      Katy   \n",
       "2     91733         5       77084        zip        TX    TX   Houston   \n",
       "3     93144         6       79936        zip        TX    TX   El Paso   \n",
       "4     62093         7       11385        zip        NY    NY  New York   \n",
       "\n",
       "                                   Metro        CountyName   2015-01-31  ...  \\\n",
       "0   Houston-The Woodlands-Sugar Land, TX  Fort Bend County  1606.206406  ...   \n",
       "1   Houston-The Woodlands-Sugar Land, TX     Harris County  1257.814660  ...   \n",
       "2   Houston-The Woodlands-Sugar Land, TX     Harris County          NaN  ...   \n",
       "3                            El Paso, TX    El Paso County          NaN  ...   \n",
       "4  New York-Newark-Jersey City, NY-NJ-PA     Queens County          NaN  ...   \n",
       "\n",
       "    2022-12-31   2023-01-31   2023-02-28   2023-03-31   2023-04-30  \\\n",
       "0  1994.653463  2027.438438  2042.237444  2049.325559  2016.531345   \n",
       "1  1749.697900  1738.217986  1747.305840  1758.407295  1758.891075   \n",
       "2  1701.217520  1706.900064  1706.067787  1723.722320  1735.484670   \n",
       "3  1419.480272  1458.063897  1471.726681  1466.734658  1456.175660   \n",
       "4  2935.808220  2895.699421  2873.209025  2881.906361  2913.546218   \n",
       "\n",
       "    2023-05-31   2023-06-30   2023-07-31   2023-08-31   2023-09-30  \n",
       "0  2023.438976  2031.558202  2046.144009  2053.486247  2055.771355  \n",
       "1  1762.980879  1771.751591  1779.338402  1795.384582  1799.631140  \n",
       "2  1752.132904  1756.990323  1754.429516  1757.602011  1755.031490  \n",
       "3  1462.478506  1466.267391  1490.237063  1488.180414  1494.366097  \n",
       "4  2963.964134  3005.735342  3034.413822  3064.476503  3079.585783  \n",
       "\n",
       "[5 rows x 114 columns]"
      ]
     },
     "execution_count": 59,
     "metadata": {},
     "output_type": "execute_result"
    }
   ],
   "source": [
    "df_zillow=pd.read_csv('data/zillow_rent_data.csv')\n",
    "df_zillow.head()"
   ]
  },
  {
   "cell_type": "code",
   "execution_count": null,
   "id": "b453fd05",
   "metadata": {},
   "outputs": [],
   "source": []
  },
  {
   "cell_type": "code",
   "execution_count": null,
   "id": "22011e93",
   "metadata": {},
   "outputs": [],
   "source": []
  },
  {
   "cell_type": "code",
   "execution_count": null,
   "id": "e13b0ab6",
   "metadata": {},
   "outputs": [],
   "source": []
  },
  {
   "cell_type": "code",
   "execution_count": null,
   "id": "d5fbf618",
   "metadata": {},
   "outputs": [],
   "source": []
  },
  {
   "cell_type": "markdown",
   "id": "8c7cae2a",
   "metadata": {},
   "source": [
    "# 2 Storing Data"
   ]
  },
  {
   "cell_type": "code",
   "execution_count": null,
   "id": "79b54e85",
   "metadata": {},
   "outputs": [],
   "source": [
    "\n",
    "\n"
   ]
  },
  {
   "cell_type": "markdown",
   "id": "094a7773",
   "metadata": {},
   "source": [
    "# 3 Understanding Data"
   ]
  },
  {
   "cell_type": "code",
   "execution_count": null,
   "id": "7299ed94",
   "metadata": {},
   "outputs": [],
   "source": []
  },
  {
   "cell_type": "markdown",
   "id": "183c6594",
   "metadata": {},
   "source": [
    "# 4 Visualizing Data"
   ]
  },
  {
   "cell_type": "code",
   "execution_count": null,
   "id": "50b18cd2",
   "metadata": {},
   "outputs": [],
   "source": []
  },
  {
   "cell_type": "code",
   "execution_count": null,
   "id": "ab76138a",
   "metadata": {},
   "outputs": [],
   "source": []
  }
 ],
 "metadata": {
  "kernelspec": {
   "display_name": "Python 3 (ipykernel)",
   "language": "python",
   "name": "python3"
  },
  "language_info": {
   "codemirror_mode": {
    "name": "ipython",
    "version": 3
   },
   "file_extension": ".py",
   "mimetype": "text/x-python",
   "name": "python",
   "nbconvert_exporter": "python",
   "pygments_lexer": "ipython3",
   "version": "3.11.5"
  }
 },
 "nbformat": 4,
 "nbformat_minor": 5
}
